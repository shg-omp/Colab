{
  "cells": [
    {
      "cell_type": "markdown",
      "metadata": {
        "id": "38LEPkvPxPsB"
      },
      "source": [
        "<img style=\"float:center\" src=\"https://raw.githubusercontent.com/AndreaDeFilippo/icons/main/company/showheroes-group-logo.png\" />"
      ]
    },
    {
      "cell_type": "markdown",
      "metadata": {
        "id": "XLDNB9Dy2a5L"
      },
      "source": [
        "# **Add Target Sites - template_video Generator**"
      ]
    },
    {
      "cell_type": "markdown",
      "metadata": {
        "id": "KZF-rCeexpBO"
      },
      "source": [
        "This Tool consists in the automatic generation of the template_video .csv to be used for the AdSources Video section.\n",
        "\n",
        "The structure of the script is based on:\n",
        "\n",
        "\n",
        "*   [[OM] - DB](https://docs.google.com/spreadsheets/d/1l8Gm8NqZIDhitZ-N3y8xaYl-_KCQfIIUi4L5962xXyM/edit#gid=0)\n",
        "*   [[TOOL] - Add Target Sites](https://docs.google.com/spreadsheets/d/14eW8HcmukU5KphTngRhzze0htUoZ56-XGUX_BdbGc-s/edit#gid=0)\n",
        "\n",
        "In the Gsheet **[TOOL] - Add Target Sites** you have to insert the domains for which you want to generate the template_video for the insertion in the AdSources Video where the domain is approved.\n",
        "\n",
        "A .xlsx file will be generated to have a summary of where the domains will be inserted in the respective AdSources while the .csv file is the one to use for the *Add Target Sites* on the platform.\n",
        "\n",
        "\n"
      ]
    },
    {
      "cell_type": "code",
      "execution_count": null,
      "metadata": {
        "id": "JkWPRi_8xx7e"
      },
      "outputs": [],
      "source": [
        "#@title\n",
        "import pandas as pd\n",
        "from functools import reduce\n",
        "import time\n",
        "import numpy as np\n",
        "from google.colab import files\n",
        "pd.set_option('mode.chained_assignment', None)"
      ]
    },
    {
      "cell_type": "code",
      "execution_count": null,
      "metadata": {
        "colab": {
          "base_uri": "https://localhost:8080/",
          "height": 178
        },
        "id": "bcf-1Haaxz_-",
        "outputId": "5617c720-627b-4409-b506-9c3997a6c5cd"
      },
      "outputs": [
        {
          "output_type": "stream",
          "name": "stderr",
          "text": [
            "<ipython-input-42-c4f12afba9f0>:14: DtypeWarning: Columns (9,10) have mixed types. Specify dtype option on import or set low_memory=False.\n",
            "  db = pd.read_csv(db)\n"
          ]
        },
        {
          "output_type": "execute_result",
          "data": {
            "text/plain": [
              "<pandas.io.formats.style.Styler at 0x7b0fb901d3f0>"
            ],
            "text/html": [
              "<style type=\"text/css\">\n",
              "#T_629c5_row0_col0, #T_629c5_row0_col1, #T_629c5_row0_col2, #T_629c5_row0_col3, #T_629c5_row0_col4, #T_629c5_row0_col9, #T_629c5_row0_col12, #T_629c5_row0_col17, #T_629c5_row0_col21, #T_629c5_row1_col0, #T_629c5_row1_col1, #T_629c5_row1_col2, #T_629c5_row1_col3, #T_629c5_row1_col8, #T_629c5_row1_col9, #T_629c5_row1_col11, #T_629c5_row1_col16, #T_629c5_row1_col17, #T_629c5_row1_col18, #T_629c5_row1_col19, #T_629c5_row1_col20, #T_629c5_row1_col21, #T_629c5_row2_col0, #T_629c5_row2_col1, #T_629c5_row2_col2, #T_629c5_row2_col3, #T_629c5_row2_col4, #T_629c5_row2_col8, #T_629c5_row2_col9, #T_629c5_row2_col10, #T_629c5_row2_col11, #T_629c5_row2_col12, #T_629c5_row2_col13, #T_629c5_row2_col15, #T_629c5_row2_col16, #T_629c5_row2_col17, #T_629c5_row2_col19, #T_629c5_row2_col20, #T_629c5_row2_col21 {\n",
              "  background-color: None;\n",
              "}\n",
              "#T_629c5_row0_col5, #T_629c5_row0_col6, #T_629c5_row0_col7, #T_629c5_row0_col8, #T_629c5_row0_col10, #T_629c5_row0_col11, #T_629c5_row0_col13, #T_629c5_row0_col14, #T_629c5_row0_col15, #T_629c5_row0_col16, #T_629c5_row0_col18, #T_629c5_row0_col19, #T_629c5_row0_col20, #T_629c5_row1_col4, #T_629c5_row1_col5, #T_629c5_row1_col6, #T_629c5_row1_col7, #T_629c5_row1_col10, #T_629c5_row1_col12, #T_629c5_row1_col13, #T_629c5_row1_col14, #T_629c5_row1_col15, #T_629c5_row2_col5, #T_629c5_row2_col6, #T_629c5_row2_col7, #T_629c5_row2_col14, #T_629c5_row2_col18 {\n",
              "  background-color: #1E1E1E;\n",
              "}\n",
              "</style>\n",
              "<table id=\"T_629c5\" class=\"dataframe\">\n",
              "  <thead>\n",
              "    <tr>\n",
              "      <th class=\"blank level0\" >&nbsp;</th>\n",
              "      <th id=\"T_629c5_level0_col0\" class=\"col_heading level0 col0\" >Domain</th>\n",
              "      <th id=\"T_629c5_level0_col1\" class=\"col_heading level0 col1\" >Status</th>\n",
              "      <th id=\"T_629c5_level0_col2\" class=\"col_heading level0 col2\" >PP OutStream</th>\n",
              "      <th id=\"T_629c5_level0_col3\" class=\"col_heading level0 col3\" >PP InStream</th>\n",
              "      <th id=\"T_629c5_level0_col4\" class=\"col_heading level0 col4\" >Rubicon</th>\n",
              "      <th id=\"T_629c5_level0_col5\" class=\"col_heading level0 col5\" >Freewheel</th>\n",
              "      <th id=\"T_629c5_level0_col6\" class=\"col_heading level0 col6\" >Improve</th>\n",
              "      <th id=\"T_629c5_level0_col7\" class=\"col_heading level0 col7\" >Adform</th>\n",
              "      <th id=\"T_629c5_level0_col8\" class=\"col_heading level0 col8\" >Smart</th>\n",
              "      <th id=\"T_629c5_level0_col9\" class=\"col_heading level0 col9\" >Union</th>\n",
              "      <th id=\"T_629c5_level0_col10\" class=\"col_heading level0 col10\" >Pubmatic</th>\n",
              "      <th id=\"T_629c5_level0_col11\" class=\"col_heading level0 col11\" >OpenX</th>\n",
              "      <th id=\"T_629c5_level0_col12\" class=\"col_heading level0 col12\" >SpotX</th>\n",
              "      <th id=\"T_629c5_level0_col13\" class=\"col_heading level0 col13\" >Xandr</th>\n",
              "      <th id=\"T_629c5_level0_col14\" class=\"col_heading level0 col14\" >RichAudience</th>\n",
              "      <th id=\"T_629c5_level0_col15\" class=\"col_heading level0 col15\" >Verizon</th>\n",
              "      <th id=\"T_629c5_level0_col16\" class=\"col_heading level0 col16\" >TripleLift</th>\n",
              "      <th id=\"T_629c5_level0_col17\" class=\"col_heading level0 col17\" >Index</th>\n",
              "      <th id=\"T_629c5_level0_col18\" class=\"col_heading level0 col18\" >OneTag</th>\n",
              "      <th id=\"T_629c5_level0_col19\" class=\"col_heading level0 col19\" >Sovrn</th>\n",
              "      <th id=\"T_629c5_level0_col20\" class=\"col_heading level0 col20\" >Yahoo</th>\n",
              "      <th id=\"T_629c5_level0_col21\" class=\"col_heading level0 col21\" >OZ_Digital</th>\n",
              "    </tr>\n",
              "  </thead>\n",
              "  <tbody>\n",
              "    <tr>\n",
              "      <th id=\"T_629c5_level0_row0\" class=\"row_heading level0 row0\" >0</th>\n",
              "      <td id=\"T_629c5_row0_col0\" class=\"data row0 col0\" >100torri.it</td>\n",
              "      <td id=\"T_629c5_row0_col1\" class=\"data row0 col1\" >Catchall</td>\n",
              "      <td id=\"T_629c5_row0_col2\" class=\"data row0 col2\" >2</td>\n",
              "      <td id=\"T_629c5_row0_col3\" class=\"data row0 col3\" >2</td>\n",
              "      <td id=\"T_629c5_row0_col4\" class=\"data row0 col4\" >-</td>\n",
              "      <td id=\"T_629c5_row0_col5\" class=\"data row0 col5\" >wl</td>\n",
              "      <td id=\"T_629c5_row0_col6\" class=\"data row0 col6\" >wl</td>\n",
              "      <td id=\"T_629c5_row0_col7\" class=\"data row0 col7\" >wl</td>\n",
              "      <td id=\"T_629c5_row0_col8\" class=\"data row0 col8\" >wl</td>\n",
              "      <td id=\"T_629c5_row0_col9\" class=\"data row0 col9\" >-</td>\n",
              "      <td id=\"T_629c5_row0_col10\" class=\"data row0 col10\" >wl</td>\n",
              "      <td id=\"T_629c5_row0_col11\" class=\"data row0 col11\" >wl</td>\n",
              "      <td id=\"T_629c5_row0_col12\" class=\"data row0 col12\" >-</td>\n",
              "      <td id=\"T_629c5_row0_col13\" class=\"data row0 col13\" >wl</td>\n",
              "      <td id=\"T_629c5_row0_col14\" class=\"data row0 col14\" >wl</td>\n",
              "      <td id=\"T_629c5_row0_col15\" class=\"data row0 col15\" >wl</td>\n",
              "      <td id=\"T_629c5_row0_col16\" class=\"data row0 col16\" >wl</td>\n",
              "      <td id=\"T_629c5_row0_col17\" class=\"data row0 col17\" >-</td>\n",
              "      <td id=\"T_629c5_row0_col18\" class=\"data row0 col18\" >wl</td>\n",
              "      <td id=\"T_629c5_row0_col19\" class=\"data row0 col19\" >wl</td>\n",
              "      <td id=\"T_629c5_row0_col20\" class=\"data row0 col20\" >wl</td>\n",
              "      <td id=\"T_629c5_row0_col21\" class=\"data row0 col21\" >-</td>\n",
              "    </tr>\n",
              "    <tr>\n",
              "      <th id=\"T_629c5_level0_row1\" class=\"row_heading level0 row1\" >1</th>\n",
              "      <td id=\"T_629c5_row1_col0\" class=\"data row1 col0\" >10elol.it</td>\n",
              "      <td id=\"T_629c5_row1_col1\" class=\"data row1 col1\" >Catchall</td>\n",
              "      <td id=\"T_629c5_row1_col2\" class=\"data row1 col2\" >1</td>\n",
              "      <td id=\"T_629c5_row1_col3\" class=\"data row1 col3\" >1</td>\n",
              "      <td id=\"T_629c5_row1_col4\" class=\"data row1 col4\" >wl</td>\n",
              "      <td id=\"T_629c5_row1_col5\" class=\"data row1 col5\" >wl</td>\n",
              "      <td id=\"T_629c5_row1_col6\" class=\"data row1 col6\" >wl</td>\n",
              "      <td id=\"T_629c5_row1_col7\" class=\"data row1 col7\" >wl</td>\n",
              "      <td id=\"T_629c5_row1_col8\" class=\"data row1 col8\" >-</td>\n",
              "      <td id=\"T_629c5_row1_col9\" class=\"data row1 col9\" >-</td>\n",
              "      <td id=\"T_629c5_row1_col10\" class=\"data row1 col10\" >wl</td>\n",
              "      <td id=\"T_629c5_row1_col11\" class=\"data row1 col11\" >-</td>\n",
              "      <td id=\"T_629c5_row1_col12\" class=\"data row1 col12\" >wl</td>\n",
              "      <td id=\"T_629c5_row1_col13\" class=\"data row1 col13\" >wl</td>\n",
              "      <td id=\"T_629c5_row1_col14\" class=\"data row1 col14\" >wl</td>\n",
              "      <td id=\"T_629c5_row1_col15\" class=\"data row1 col15\" >wl</td>\n",
              "      <td id=\"T_629c5_row1_col16\" class=\"data row1 col16\" >-</td>\n",
              "      <td id=\"T_629c5_row1_col17\" class=\"data row1 col17\" >-</td>\n",
              "      <td id=\"T_629c5_row1_col18\" class=\"data row1 col18\" >-</td>\n",
              "      <td id=\"T_629c5_row1_col19\" class=\"data row1 col19\" >-</td>\n",
              "      <td id=\"T_629c5_row1_col20\" class=\"data row1 col20\" >-</td>\n",
              "      <td id=\"T_629c5_row1_col21\" class=\"data row1 col21\" >-</td>\n",
              "    </tr>\n",
              "    <tr>\n",
              "      <th id=\"T_629c5_level0_row2\" class=\"row_heading level0 row2\" >2</th>\n",
              "      <td id=\"T_629c5_row2_col0\" class=\"data row2 col0\" >2wed.it</td>\n",
              "      <td id=\"T_629c5_row2_col1\" class=\"data row2 col1\" >Catchall</td>\n",
              "      <td id=\"T_629c5_row2_col2\" class=\"data row2 col2\" >1</td>\n",
              "      <td id=\"T_629c5_row2_col3\" class=\"data row2 col3\" >1</td>\n",
              "      <td id=\"T_629c5_row2_col4\" class=\"data row2 col4\" >-</td>\n",
              "      <td id=\"T_629c5_row2_col5\" class=\"data row2 col5\" >wl</td>\n",
              "      <td id=\"T_629c5_row2_col6\" class=\"data row2 col6\" >wl</td>\n",
              "      <td id=\"T_629c5_row2_col7\" class=\"data row2 col7\" >wl</td>\n",
              "      <td id=\"T_629c5_row2_col8\" class=\"data row2 col8\" >-</td>\n",
              "      <td id=\"T_629c5_row2_col9\" class=\"data row2 col9\" >-</td>\n",
              "      <td id=\"T_629c5_row2_col10\" class=\"data row2 col10\" >-</td>\n",
              "      <td id=\"T_629c5_row2_col11\" class=\"data row2 col11\" >-</td>\n",
              "      <td id=\"T_629c5_row2_col12\" class=\"data row2 col12\" >-</td>\n",
              "      <td id=\"T_629c5_row2_col13\" class=\"data row2 col13\" >-</td>\n",
              "      <td id=\"T_629c5_row2_col14\" class=\"data row2 col14\" >wl</td>\n",
              "      <td id=\"T_629c5_row2_col15\" class=\"data row2 col15\" >-</td>\n",
              "      <td id=\"T_629c5_row2_col16\" class=\"data row2 col16\" >-</td>\n",
              "      <td id=\"T_629c5_row2_col17\" class=\"data row2 col17\" >-</td>\n",
              "      <td id=\"T_629c5_row2_col18\" class=\"data row2 col18\" >wl</td>\n",
              "      <td id=\"T_629c5_row2_col19\" class=\"data row2 col19\" >-</td>\n",
              "      <td id=\"T_629c5_row2_col20\" class=\"data row2 col20\" >-</td>\n",
              "      <td id=\"T_629c5_row2_col21\" class=\"data row2 col21\" >-</td>\n",
              "    </tr>\n",
              "  </tbody>\n",
              "</table>\n"
            ]
          },
          "metadata": {},
          "execution_count": 42
        }
      ],
      "source": [
        "#@title\n",
        "# URL\n",
        "domain = 'https://docs.google.com/spreadsheets/d/e/2PACX-1vRuqZpFwkpJTO3O4O5YyACTRHI1GHYThiQwon9VNkoOXatOEc6aRm4zk5fWrBMqIw_cNjV_i1mq_8_G/pub?gid=542268396&single=true&output=csv'\n",
        "adsources = 'https://docs.google.com/spreadsheets/d/e/2PACX-1vRuqZpFwkpJTO3O4O5YyACTRHI1GHYThiQwon9VNkoOXatOEc6aRm4zk5fWrBMqIw_cNjV_i1mq_8_G/pub?gid=1608803443&single=true&output=csv'\n",
        "db = 'https://docs.google.com/spreadsheets/d/e/2PACX-1vQ7rqThGh1aVGl_L7HyBixQD8L8i_BsxgNNh46lT_RVzGv2OCDncX3GTYCs4MAE7M8f7KZWW7uKUfJz/pub?gid=0&single=true&output=csv'\n",
        "\n",
        "# Reading the domain\n",
        "df_domain = pd.read_csv(domain)\n",
        "\n",
        "# Create a list of Domain to insert in OMP Sources\n",
        "list_domain = df_domain['Domain'].tolist()\n",
        "\n",
        "# Reading DB about the Audit Status\n",
        "db = pd.read_csv(db)\n",
        "\n",
        "list_ssp = ['Rubicon',\n",
        "           'Freewheel',\n",
        "           'Improve',\n",
        "           'Adform',\n",
        "           'Smart',\n",
        "           'Union',\n",
        "           'Pubmatic',\n",
        "           'OpenX',\n",
        "           'SpotX',\n",
        "           'Xandr',\n",
        "           'RichAudience',\n",
        "           'Verizon',\n",
        "           'TripleLift',\n",
        "           'Index',\n",
        "            'OneTag',\n",
        "            'Sovrn',\n",
        "            'Yahoo',\n",
        "            'OZ_Digital']\n",
        "\n",
        "columns = ['Domain', 'Status', 'PP OutStream','PP InStream'] + list_ssp\n",
        "\n",
        "db = db[columns]\n",
        "db = db[db.Domain.isin(list_domain)] # Filter Domains to put in the AdSources\n",
        "\n",
        "db = db.replace(to_replace = ['to_check','bl','to_add','removed'],\n",
        "                value ='-')\n",
        "\n",
        "# Overview about Domain Status\n",
        "def _bg_color(val):\n",
        "    color = '#1E1E1E' if val == 'wl' else None\n",
        "    return 'background-color: %s' % color\n",
        "\n",
        "db_overview = pd.merge(df_domain, db, how='left', on=['Domain'])\n",
        "db_overview.style.applymap(_bg_color)"
      ]
    },
    {
      "cell_type": "code",
      "execution_count": null,
      "metadata": {
        "id": "uim_ODGcln9V"
      },
      "outputs": [],
      "source": [
        "#@title\n",
        "# Creation of the DataFrame about the Pricing Point per Format\n",
        "dict_format = {'Instream' : {'column_db' : 'PP InStream'},\n",
        "               'Outstream' : {'column_db' : 'PP OutStream'}}\n",
        "\n",
        "list_format = ['Instream', 'Outstream']\n",
        "\n",
        "db_format = pd.DataFrame()"
      ]
    },
    {
      "cell_type": "code",
      "execution_count": null,
      "metadata": {
        "id": "XB5YcB1KluuH"
      },
      "outputs": [],
      "source": [
        "#@title\n",
        "for vid_format in list_format:\n",
        "    df_format = db[['Domain', dict_format[vid_format]['column_db']]]\n",
        "    df_format['PP'] = df_format[dict_format[vid_format]['column_db']]\n",
        "    df_format['Format'] = vid_format\n",
        "    df_format = df_format[['Domain','Format','PP']]\n",
        "    #db_format = db_format.append(df_format, ignore_index=True)\n",
        "    db_format = pd.concat([db_format, df_format], ignore_index=True)"
      ]
    },
    {
      "cell_type": "code",
      "execution_count": null,
      "metadata": {
        "id": "YiPkjVUXl7qq"
      },
      "outputs": [],
      "source": [
        "#@title\n",
        "# Creation of the DataFrame about the Audit Status per Domain & SSP\n",
        "db_audit = pd.DataFrame()\n",
        "\n",
        "for ssp in list_ssp:\n",
        "    df_audit = db[['Domain', ssp]]\n",
        "    df_audit['Audit'] = df_audit[ssp]\n",
        "    df_audit['SSP'] = ssp\n",
        "    df_audit = df_audit[['Domain','SSP','Audit']]\n",
        "    #db_audit = db_audit.append(df_audit, ignore_index=True)\n",
        "    db_audit = pd.concat([db_audit,df_audit], ignore_index=True)"
      ]
    },
    {
      "cell_type": "code",
      "execution_count": null,
      "metadata": {
        "id": "wP-rYavYmNaK"
      },
      "outputs": [],
      "source": [
        "#@title\n",
        "# Creation of the DataFrame about the Status per Domain\n",
        "db_status = db[['Domain', 'Status']]"
      ]
    },
    {
      "cell_type": "code",
      "execution_count": null,
      "metadata": {
        "id": "wQ2qcpyLmqlV"
      },
      "outputs": [],
      "source": [
        "#@title\n",
        "# Merging the Domain with the DB\n",
        "dfs = [db_status, db_format, db_audit]\n",
        "df = reduce(lambda left,right: pd.merge(left,right,on='Domain'), dfs)\n",
        "\n",
        "\n",
        "# Isolate the domain with CA Status and positive audit\n",
        "df = df[df['Audit'].str.contains('wl')]\n",
        "df = df[['Domain','Status','Format','PP','SSP']]"
      ]
    },
    {
      "cell_type": "code",
      "source": [
        "df[\"PP\"] = df[\"PP\"].apply(str)\n",
        "timestamp = time.strftime('%Y%m%d%H%M%S')"
      ],
      "metadata": {
        "id": "dmAyp-HuCZuK"
      },
      "execution_count": null,
      "outputs": []
    },
    {
      "cell_type": "code",
      "execution_count": null,
      "metadata": {
        "id": "8jWn8lXryF2_"
      },
      "outputs": [],
      "source": [
        "#@title\n",
        "# Reading the Sources DB\n",
        "db_sources = pd.read_csv(adsources)\n",
        "db_sources = db_sources[['Type', 'Id', 'Ad Source', 'Status', 'SSP', 'PP', 'Format']]"
      ]
    },
    {
      "cell_type": "code",
      "execution_count": null,
      "metadata": {
        "id": "jXgPYFEKwJCx"
      },
      "outputs": [],
      "source": [
        "# Managing exeption for Pubmatic SE without PP\n",
        "## Creating specific db_sources\n",
        "db_sources_ppn_Pubmatic_SE = db_sources.query(\" SSP == 'Pubmatic' and Type == 'Video' and PP == '-'  \")\n",
        "\n",
        "# Video Merging the data and Creation of the .xlsx Recap\n",
        "df_final_video = pd.merge(df, db_sources, how='left', on=['Status', 'SSP', 'PP', 'Format'])\n",
        "\n",
        "\n",
        "Pubmatic_SE = [\"Pubmatic\"]\n",
        "Pubmatic_SE_ppn = df_final_video[df_final_video[\"SSP\"].isin(Pubmatic_SE)]\n",
        "Pubmatic_SE_ppn = Pubmatic_SE_ppn.Domain.unique()\n",
        "# Costruisci un DataFrame unico concatenando ciascun elemento dell'array 'pubmatic_se'\n",
        "dfs_Pubmatic_SE_ppn = []\n",
        "\n",
        "for domain in Pubmatic_SE_ppn:\n",
        "    df_Pubmatic_SE_ppn = db_sources_ppn_Pubmatic_SE.copy()  # Crea una copia del DataFrame originale\n",
        "    df_Pubmatic_SE_ppn.insert(0, 'Domain', domain)  # Aggiungi la colonna 'Domain' con l'elemento corrente\n",
        "    dfs_Pubmatic_SE_ppn.append(df_Pubmatic_SE_ppn)  # Aggiungi il DataFrame alla lista\n",
        "\n",
        "merged_df_Pubmatic_SE_ppn = pd.concat(dfs_Pubmatic_SE_ppn, ignore_index=True)\n",
        "\n",
        "merged_df_Pubmatic_SE_ppn[\"Status\"] = \"Catchall\"\n",
        "merged_df_Pubmatic_SE_ppn = merged_df_Pubmatic_SE_ppn[[\"Domain\", \"Status\", \"Format\",\"PP\", \"Type\", \"Id\", \"Ad Source\"]]\n",
        "\n",
        "\n",
        "df_final_video = pd.concat([df_final_video, merged_df_Pubmatic_SE_ppn])\n",
        "##Fine Gestione eccezione Pubmatic SE senza PP"
      ]
    },
    {
      "cell_type": "code",
      "source": [
        "# Managing exeption for OneTag without PP\n",
        "## Creating specific db_sources\n",
        "db_sources_ppn_OneTag = db_sources.query(\" SSP == 'OneTag' and Type == 'Video' and PP == '-'  \")\n",
        "\n",
        "\n",
        "OneTag = [\"OneTag\"]\n",
        "OneTag_ppn = df_final_video[df_final_video[\"SSP\"].isin(OneTag)]\n",
        "OneTag_ppn = OneTag_ppn.Domain.unique()\n",
        "# Costruisci un DataFrame unico concatenando ciascun elemento dell'array 'OneTag'\n",
        "dfs_OneTag_ppn = []\n",
        "\n",
        "for domain in OneTag_ppn:\n",
        "    df_OneTag_ppn = db_sources_ppn_OneTag.copy()  # Crea una copia del DataFrame originale\n",
        "    df_OneTag_ppn.insert(0, 'Domain', domain)  # Aggiungi la colonna 'Domain' con l'elemento corrente\n",
        "    dfs_OneTag_ppn.append(df_OneTag_ppn)  # Aggiungi il DataFrame alla lista\n",
        "\n",
        "merged_df_OneTag_ppn = pd.concat(dfs_OneTag_ppn, ignore_index=True)\n",
        "\n",
        "merged_df_OneTag_ppn[\"Status\"] = \"Catchall\"\n",
        "merged_df_OneTag_ppn = merged_df_OneTag_ppn[[\"Domain\", \"Status\", \"Format\",\"PP\", \"Type\", \"Id\", \"Ad Source\"]]\n",
        "\n",
        "\n",
        "df_final_video = pd.concat([df_final_video, merged_df_OneTag_ppn])\n",
        "##Fine Gestione eccezione OneTag senza PP"
      ],
      "metadata": {
        "id": "Ht1QHarWP4XE"
      },
      "execution_count": null,
      "outputs": []
    },
    {
      "cell_type": "code",
      "source": [
        "df_final_video.dropna(subset = [\"Id\"], inplace=True)\n",
        "df_final_video = df_final_video[['Domain','Status','Format','PP','Id','Ad Source']]\n",
        "\n",
        "# Display Merging the data and Creation of the .xlsx Recap\n",
        "db_sources = db_sources[db_sources['Type'].isin(['Display'])]\n",
        "db_sources = db_sources[db_sources['Status'].isin(['Catchall'])]\n",
        "df_final_display = pd.merge(df, db_sources, how='left', on=['SSP'])\n",
        "df_final_display.dropna(subset = [\"Id\"], inplace=True)\n",
        "df_final_display = df_final_display[['Domain','Id','Ad Source']]"
      ],
      "metadata": {
        "id": "ca1LAHdSNh4z"
      },
      "execution_count": null,
      "outputs": []
    },
    {
      "cell_type": "code",
      "execution_count": null,
      "metadata": {
        "id": "S8VuWkP7wNoZ"
      },
      "outputs": [],
      "source": [
        "#@title\n",
        "# Adding company id to Apester domains\n",
        "#df_final_video[\"company id\"] = np.where(df_final_video[\"Status\"] == \"Apester\", \"5133\", \"\")"
      ]
    },
    {
      "cell_type": "code",
      "execution_count": null,
      "metadata": {
        "id": "q3UCbSwglnVi"
      },
      "outputs": [],
      "source": [
        "### REMOVING FREEWHEEL LINES DUE TO FILL RATE(STR) TREESHOLD\n",
        "df_final_video = df_final_video[df_final_video[\"Ad Source\"].str.contains(\"freewheel\", case=False)==False]"
      ]
    },
    {
      "cell_type": "code",
      "execution_count": null,
      "metadata": {
        "id": "Ook8K5ZIzzPK",
        "colab": {
          "base_uri": "https://localhost:8080/",
          "height": 17
        },
        "outputId": "c580111b-6bf2-41dd-bd55-29f70bad6973"
      },
      "outputs": [
        {
          "output_type": "display_data",
          "data": {
            "text/plain": [
              "<IPython.core.display.Javascript object>"
            ],
            "application/javascript": [
              "\n",
              "    async function download(id, filename, size) {\n",
              "      if (!google.colab.kernel.accessAllowed) {\n",
              "        return;\n",
              "      }\n",
              "      const div = document.createElement('div');\n",
              "      const label = document.createElement('label');\n",
              "      label.textContent = `Downloading \"${filename}\": `;\n",
              "      div.appendChild(label);\n",
              "      const progress = document.createElement('progress');\n",
              "      progress.max = size;\n",
              "      div.appendChild(progress);\n",
              "      document.body.appendChild(div);\n",
              "\n",
              "      const buffers = [];\n",
              "      let downloaded = 0;\n",
              "\n",
              "      const channel = await google.colab.kernel.comms.open(id);\n",
              "      // Send a message to notify the kernel that we're ready.\n",
              "      channel.send({})\n",
              "\n",
              "      for await (const message of channel.messages) {\n",
              "        // Send a message to notify the kernel that we're ready.\n",
              "        channel.send({})\n",
              "        if (message.buffers) {\n",
              "          for (const buffer of message.buffers) {\n",
              "            buffers.push(buffer);\n",
              "            downloaded += buffer.byteLength;\n",
              "            progress.value = downloaded;\n",
              "          }\n",
              "        }\n",
              "      }\n",
              "      const blob = new Blob(buffers, {type: 'application/binary'});\n",
              "      const a = document.createElement('a');\n",
              "      a.href = window.URL.createObjectURL(blob);\n",
              "      a.download = filename;\n",
              "      div.appendChild(a);\n",
              "      a.click();\n",
              "      div.remove();\n",
              "    }\n",
              "  "
            ]
          },
          "metadata": {}
        },
        {
          "output_type": "display_data",
          "data": {
            "text/plain": [
              "<IPython.core.display.Javascript object>"
            ],
            "application/javascript": [
              "download(\"download_93c6e59c-8cec-423a-907e-5f029aa6dc74\", \"output_video20240411083002_check.xlsx\", 8272)"
            ]
          },
          "metadata": {}
        },
        {
          "output_type": "display_data",
          "data": {
            "text/plain": [
              "<IPython.core.display.Javascript object>"
            ],
            "application/javascript": [
              "\n",
              "    async function download(id, filename, size) {\n",
              "      if (!google.colab.kernel.accessAllowed) {\n",
              "        return;\n",
              "      }\n",
              "      const div = document.createElement('div');\n",
              "      const label = document.createElement('label');\n",
              "      label.textContent = `Downloading \"${filename}\": `;\n",
              "      div.appendChild(label);\n",
              "      const progress = document.createElement('progress');\n",
              "      progress.max = size;\n",
              "      div.appendChild(progress);\n",
              "      document.body.appendChild(div);\n",
              "\n",
              "      const buffers = [];\n",
              "      let downloaded = 0;\n",
              "\n",
              "      const channel = await google.colab.kernel.comms.open(id);\n",
              "      // Send a message to notify the kernel that we're ready.\n",
              "      channel.send({})\n",
              "\n",
              "      for await (const message of channel.messages) {\n",
              "        // Send a message to notify the kernel that we're ready.\n",
              "        channel.send({})\n",
              "        if (message.buffers) {\n",
              "          for (const buffer of message.buffers) {\n",
              "            buffers.push(buffer);\n",
              "            downloaded += buffer.byteLength;\n",
              "            progress.value = downloaded;\n",
              "          }\n",
              "        }\n",
              "      }\n",
              "      const blob = new Blob(buffers, {type: 'application/binary'});\n",
              "      const a = document.createElement('a');\n",
              "      a.href = window.URL.createObjectURL(blob);\n",
              "      a.download = filename;\n",
              "      div.appendChild(a);\n",
              "      a.click();\n",
              "      div.remove();\n",
              "    }\n",
              "  "
            ]
          },
          "metadata": {}
        },
        {
          "output_type": "display_data",
          "data": {
            "text/plain": [
              "<IPython.core.display.Javascript object>"
            ],
            "application/javascript": [
              "download(\"download_b46b3f75-6f73-4d72-bb10-6ad5c3be5a81\", \"output_20240411083002_template_video.csv\", 1844)"
            ]
          },
          "metadata": {}
        },
        {
          "output_type": "display_data",
          "data": {
            "text/plain": [
              "<IPython.core.display.Javascript object>"
            ],
            "application/javascript": [
              "\n",
              "    async function download(id, filename, size) {\n",
              "      if (!google.colab.kernel.accessAllowed) {\n",
              "        return;\n",
              "      }\n",
              "      const div = document.createElement('div');\n",
              "      const label = document.createElement('label');\n",
              "      label.textContent = `Downloading \"${filename}\": `;\n",
              "      div.appendChild(label);\n",
              "      const progress = document.createElement('progress');\n",
              "      progress.max = size;\n",
              "      div.appendChild(progress);\n",
              "      document.body.appendChild(div);\n",
              "\n",
              "      const buffers = [];\n",
              "      let downloaded = 0;\n",
              "\n",
              "      const channel = await google.colab.kernel.comms.open(id);\n",
              "      // Send a message to notify the kernel that we're ready.\n",
              "      channel.send({})\n",
              "\n",
              "      for await (const message of channel.messages) {\n",
              "        // Send a message to notify the kernel that we're ready.\n",
              "        channel.send({})\n",
              "        if (message.buffers) {\n",
              "          for (const buffer of message.buffers) {\n",
              "            buffers.push(buffer);\n",
              "            downloaded += buffer.byteLength;\n",
              "            progress.value = downloaded;\n",
              "          }\n",
              "        }\n",
              "      }\n",
              "      const blob = new Blob(buffers, {type: 'application/binary'});\n",
              "      const a = document.createElement('a');\n",
              "      a.href = window.URL.createObjectURL(blob);\n",
              "      a.download = filename;\n",
              "      div.appendChild(a);\n",
              "      a.click();\n",
              "      div.remove();\n",
              "    }\n",
              "  "
            ]
          },
          "metadata": {}
        },
        {
          "output_type": "display_data",
          "data": {
            "text/plain": [
              "<IPython.core.display.Javascript object>"
            ],
            "application/javascript": [
              "download(\"download_ea011033-f4c8-4bad-9d03-7d3341dbcf71\", \"output_display20240411083002_check.xlsx\", 9540)"
            ]
          },
          "metadata": {}
        },
        {
          "output_type": "display_data",
          "data": {
            "text/plain": [
              "<IPython.core.display.Javascript object>"
            ],
            "application/javascript": [
              "\n",
              "    async function download(id, filename, size) {\n",
              "      if (!google.colab.kernel.accessAllowed) {\n",
              "        return;\n",
              "      }\n",
              "      const div = document.createElement('div');\n",
              "      const label = document.createElement('label');\n",
              "      label.textContent = `Downloading \"${filename}\": `;\n",
              "      div.appendChild(label);\n",
              "      const progress = document.createElement('progress');\n",
              "      progress.max = size;\n",
              "      div.appendChild(progress);\n",
              "      document.body.appendChild(div);\n",
              "\n",
              "      const buffers = [];\n",
              "      let downloaded = 0;\n",
              "\n",
              "      const channel = await google.colab.kernel.comms.open(id);\n",
              "      // Send a message to notify the kernel that we're ready.\n",
              "      channel.send({})\n",
              "\n",
              "      for await (const message of channel.messages) {\n",
              "        // Send a message to notify the kernel that we're ready.\n",
              "        channel.send({})\n",
              "        if (message.buffers) {\n",
              "          for (const buffer of message.buffers) {\n",
              "            buffers.push(buffer);\n",
              "            downloaded += buffer.byteLength;\n",
              "            progress.value = downloaded;\n",
              "          }\n",
              "        }\n",
              "      }\n",
              "      const blob = new Blob(buffers, {type: 'application/binary'});\n",
              "      const a = document.createElement('a');\n",
              "      a.href = window.URL.createObjectURL(blob);\n",
              "      a.download = filename;\n",
              "      div.appendChild(a);\n",
              "      a.click();\n",
              "      div.remove();\n",
              "    }\n",
              "  "
            ]
          },
          "metadata": {}
        },
        {
          "output_type": "display_data",
          "data": {
            "text/plain": [
              "<IPython.core.display.Javascript object>"
            ],
            "application/javascript": [
              "download(\"download_dc0da53c-8867-49d9-a157-c4cbdfa22a7d\", \"output_20240411083002_template_display.csv\", 4168)"
            ]
          },
          "metadata": {}
        }
      ],
      "source": [
        "#@title\n",
        "'''VIDEO'''\n",
        "\n",
        "# Export Video .xlsx\n",
        "df_final_video.to_excel('output_video'+ timestamp + '_check.xlsx', index=False)\n",
        "files.download('output_video'+ timestamp + '_check.xlsx')\n",
        "\n",
        "# Creation of the .csv template_video\n",
        "template_video = df_final_video[['Id','Domain']]\n",
        "template_video['company id'] = None\n",
        "template_video.rename(columns={'Id': 'source id', 'Domain': 'domain'}, inplace=True)\n",
        "template_video[\"source id\"] = template_video[\"source id\"].astype(int)\n",
        "template_video.to_csv('output_' + timestamp + '_template_video.csv', index=None, sep=',')\n",
        "files.download('output_' + timestamp + '_template_video.csv')\n",
        "\n",
        "'''Display'''\n",
        "\n",
        "# Export Display .xlsx\n",
        "df_final_display.to_excel('output_display'+ timestamp + '_check.xlsx', index=False)\n",
        "files.download('output_display'+ timestamp + '_check.xlsx')\n",
        "\n",
        "# Creation of the .csv template_display\n",
        "template_display = df_final_display[['Id','Domain']]\n",
        "template_display['company id'] = None\n",
        "template_display.rename(columns={'Id': 'source id', 'Domain': 'domain'}, inplace=True)\n",
        "template_display[\"source id\"] = template_display[\"source id\"].astype(int)\n",
        "template_display.to_csv('output_' + timestamp + '_template_display.csv', index=None, sep=',')\n",
        "files.download('output_' + timestamp + '_template_display.csv')"
      ]
    }
  ],
  "metadata": {
    "colab": {
      "provenance": []
    },
    "kernelspec": {
      "display_name": "Python 3",
      "name": "python3"
    },
    "language_info": {
      "name": "python"
    }
  },
  "nbformat": 4,
  "nbformat_minor": 0
}